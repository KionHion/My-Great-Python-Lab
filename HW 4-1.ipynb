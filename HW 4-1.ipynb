{
 "cells": [
  {
   "cell_type": "code",
   "execution_count": 37,
   "metadata": {},
   "outputs": [
    {
     "data": {
      "text/html": [
       "<div>\n",
       "<style scoped>\n",
       "    .dataframe tbody tr th:only-of-type {\n",
       "        vertical-align: middle;\n",
       "    }\n",
       "\n",
       "    .dataframe tbody tr th {\n",
       "        vertical-align: top;\n",
       "    }\n",
       "\n",
       "    .dataframe thead th {\n",
       "        text-align: right;\n",
       "    }\n",
       "</style>\n",
       "<table border=\"1\" class=\"dataframe\">\n",
       "  <thead>\n",
       "    <tr style=\"text-align: right;\">\n",
       "      <th></th>\n",
       "      <th>院 系 組 別</th>\n",
       "      <th>Unnamed: 1</th>\n",
       "      <th>共 計</th>\n",
       "      <th>延修生</th>\n",
       "      <th>Unnamed: 4</th>\n",
       "    </tr>\n",
       "  </thead>\n",
       "  <tbody>\n",
       "    <tr>\n",
       "      <th>0</th>\n",
       "      <td>NaN</td>\n",
       "      <td>NaN</td>\n",
       "      <td>計</td>\n",
       "      <td>男</td>\n",
       "      <td>女</td>\n",
       "    </tr>\n",
       "    <tr>\n",
       "      <th>1</th>\n",
       "      <td>文學院</td>\n",
       "      <td>1000</td>\n",
       "      <td>2083</td>\n",
       "      <td>76</td>\n",
       "      <td>126</td>\n",
       "    </tr>\n",
       "    <tr>\n",
       "      <th>2</th>\n",
       "      <td>中國文學系</td>\n",
       "      <td>1010</td>\n",
       "      <td>264</td>\n",
       "      <td>7</td>\n",
       "      <td>18</td>\n",
       "    </tr>\n",
       "    <tr>\n",
       "      <th>3</th>\n",
       "      <td>外國語文學系</td>\n",
       "      <td>1020</td>\n",
       "      <td>528</td>\n",
       "      <td>12</td>\n",
       "      <td>29</td>\n",
       "    </tr>\n",
       "    <tr>\n",
       "      <th>4</th>\n",
       "      <td>歷史學系</td>\n",
       "      <td>1030</td>\n",
       "      <td>254</td>\n",
       "      <td>13</td>\n",
       "      <td>11</td>\n",
       "    </tr>\n",
       "  </tbody>\n",
       "</table>\n",
       "</div>"
      ],
      "text/plain": [
       "  院 系 組 別 Unnamed: 1   共 計 延修生 Unnamed: 4\n",
       "0     NaN        NaN     計   男          女\n",
       "1    文學院        1000  2083  76        126\n",
       "2  中國文學系        1010   264   7         18\n",
       "3  外國語文學系       1020   528  12         29\n",
       "4    歷史學系       1030   254  13         11"
      ]
     },
     "execution_count": 37,
     "metadata": {},
     "output_type": "execute_result"
    }
   ],
   "source": [
    "import pandas as pd\n",
    "import numpy as np\n",
    "\n",
    "df1061=pd.read_excel(\"D:/Users/Ooi/Desktop/G Suite Google Drive/Colab Notebooks/Python in ML and DL/HW/My Great Python Lab/HW3/abc.xlsx\", encoding=\"Big5\")\n",
    "df1062=pd.read_excel(\"D:/Users/Ooi/Desktop/G Suite Google Drive/Colab Notebooks/Python in ML and DL/HW/My Great Python Lab/HW3/def.xlsx\", encoding=\"Big5\")\n",
    "df1062.head()"
   ]
  },
  {
   "cell_type": "markdown",
   "metadata": {},
   "source": [
    "把學院剔除"
   ]
  },
  {
   "cell_type": "code",
   "execution_count": 40,
   "metadata": {},
   "outputs": [],
   "source": [
    "df1061=df1061[~df1061[\"院 系 組 別\"].str.contains(\"學院\", na=False)]\n",
    "df1062=df1062[~df1062[\"院 系 組 別\"].str.contains(\"學院\", na=False)]\n",
    "df1061=df1061.fillna(0) \n",
    "df1062=df1062.fillna(0)"
   ]
  },
  {
   "cell_type": "markdown",
   "metadata": {},
   "source": [
    "為了方便操作，重新命名為英文名字"
   ]
  },
  {
   "cell_type": "code",
   "execution_count": 41,
   "metadata": {},
   "outputs": [
    {
     "data": {
      "text/html": [
       "<div>\n",
       "<style scoped>\n",
       "    .dataframe tbody tr th:only-of-type {\n",
       "        vertical-align: middle;\n",
       "    }\n",
       "\n",
       "    .dataframe tbody tr th {\n",
       "        vertical-align: top;\n",
       "    }\n",
       "\n",
       "    .dataframe thead th {\n",
       "        text-align: right;\n",
       "    }\n",
       "</style>\n",
       "<table border=\"1\" class=\"dataframe\">\n",
       "  <thead>\n",
       "    <tr style=\"text-align: right;\">\n",
       "      <th></th>\n",
       "      <th>Department</th>\n",
       "      <th>Code</th>\n",
       "      <th>Total Amount</th>\n",
       "      <th>Delay Male</th>\n",
       "      <th>Delay Female</th>\n",
       "    </tr>\n",
       "  </thead>\n",
       "  <tbody>\n",
       "    <tr>\n",
       "      <th>3</th>\n",
       "      <td>外國語文學系</td>\n",
       "      <td>1020</td>\n",
       "      <td>528</td>\n",
       "      <td>12</td>\n",
       "      <td>29</td>\n",
       "    </tr>\n",
       "    <tr>\n",
       "      <th>4</th>\n",
       "      <td>歷史學系</td>\n",
       "      <td>1030</td>\n",
       "      <td>254</td>\n",
       "      <td>13</td>\n",
       "      <td>11</td>\n",
       "    </tr>\n",
       "  </tbody>\n",
       "</table>\n",
       "</div>"
      ],
      "text/plain": [
       "  Department  Code Total Amount Delay Male Delay Female\n",
       "3     外國語文學系  1020          528         12           29\n",
       "4       歷史學系  1030          254         13           11"
      ]
     },
     "execution_count": 41,
     "metadata": {},
     "output_type": "execute_result"
    }
   ],
   "source": [
    "df1061.columns=[\"Department\", \"Code\", \"Total Amount\", \"Delay Male\", \"Delay Female\"]\n",
    "df1061=df1061.iloc[2:,:]\n",
    "df1062.columns=[\"Department\", \"Code\", \"Total Amount\", \"Delay Male\", \"Delay Female\"]\n",
    "df1062=df1062.iloc[2:,:]\n",
    "df1062.head(2)"
   ]
  },
  {
   "cell_type": "markdown",
   "metadata": {},
   "source": [
    "把男生和女生加起來"
   ]
  },
  {
   "cell_type": "code",
   "execution_count": 42,
   "metadata": {},
   "outputs": [
    {
     "data": {
      "text/html": [
       "<div>\n",
       "<style scoped>\n",
       "    .dataframe tbody tr th:only-of-type {\n",
       "        vertical-align: middle;\n",
       "    }\n",
       "\n",
       "    .dataframe tbody tr th {\n",
       "        vertical-align: top;\n",
       "    }\n",
       "\n",
       "    .dataframe thead th {\n",
       "        text-align: right;\n",
       "    }\n",
       "</style>\n",
       "<table border=\"1\" class=\"dataframe\">\n",
       "  <thead>\n",
       "    <tr style=\"text-align: right;\">\n",
       "      <th></th>\n",
       "      <th>Department</th>\n",
       "      <th>Code</th>\n",
       "      <th>Total Amount</th>\n",
       "      <th>Delay Male</th>\n",
       "      <th>Delay Female</th>\n",
       "      <th>Total Delay</th>\n",
       "    </tr>\n",
       "  </thead>\n",
       "  <tbody>\n",
       "    <tr>\n",
       "      <th>3</th>\n",
       "      <td>外國語文學系</td>\n",
       "      <td>1020</td>\n",
       "      <td>544</td>\n",
       "      <td>15</td>\n",
       "      <td>39</td>\n",
       "      <td>54</td>\n",
       "    </tr>\n",
       "    <tr>\n",
       "      <th>4</th>\n",
       "      <td>歷史學系</td>\n",
       "      <td>1030</td>\n",
       "      <td>264</td>\n",
       "      <td>14</td>\n",
       "      <td>19</td>\n",
       "      <td>33</td>\n",
       "    </tr>\n",
       "    <tr>\n",
       "      <th>5</th>\n",
       "      <td>哲學系</td>\n",
       "      <td>1040</td>\n",
       "      <td>186</td>\n",
       "      <td>13</td>\n",
       "      <td>8</td>\n",
       "      <td>21</td>\n",
       "    </tr>\n",
       "    <tr>\n",
       "      <th>6</th>\n",
       "      <td>人類學系</td>\n",
       "      <td>1050</td>\n",
       "      <td>158</td>\n",
       "      <td>5</td>\n",
       "      <td>11</td>\n",
       "      <td>16</td>\n",
       "    </tr>\n",
       "    <tr>\n",
       "      <th>7</th>\n",
       "      <td>圖書資訊學系</td>\n",
       "      <td>1060</td>\n",
       "      <td>210</td>\n",
       "      <td>5</td>\n",
       "      <td>16</td>\n",
       "      <td>21</td>\n",
       "    </tr>\n",
       "  </tbody>\n",
       "</table>\n",
       "</div>"
      ],
      "text/plain": [
       "  Department  Code Total Amount Delay Male Delay Female  Total Delay\n",
       "3     外國語文學系  1020          544         15           39           54\n",
       "4       歷史學系  1030          264         14           19           33\n",
       "5        哲學系  1040          186         13            8           21\n",
       "6       人類學系  1050          158          5           11           16\n",
       "7     圖書資訊學系  1060          210          5           16           21"
      ]
     },
     "execution_count": 42,
     "metadata": {},
     "output_type": "execute_result"
    }
   ],
   "source": [
    "DelayMale1061 = df1061.iloc[:,3]\n",
    "DelayFemale1061 = df1061.iloc[:,4]\n",
    "DelayMale1062 = df1062.iloc[:,3]\n",
    "DelayFemale1062 = df1062.iloc[:,4]\n",
    "\n",
    "list(DelayFemale1061)\n",
    "list(DelayMale1061)\n",
    "TotalDelay1061=[x+y for x,y in zip(DelayMale1061, DelayFemale1061)]\n",
    "list(DelayFemale1062)\n",
    "list(DelayMale1062)\n",
    "TotalDelay1062=[x+y for x,y in zip(DelayMale1062, DelayFemale1062)]\n",
    "\n",
    "df1061[\"Total Delay\"]=TotalDelay1061\n",
    "df1062[\"Total Delay\"]=TotalDelay1062\n",
    "df1061.head()"
   ]
  },
  {
   "cell_type": "markdown",
   "metadata": {},
   "source": [
    "計算機率：延畢/系的總人數"
   ]
  },
  {
   "cell_type": "code",
   "execution_count": 45,
   "metadata": {},
   "outputs": [
    {
     "data": {
      "text/html": [
       "<div>\n",
       "<style scoped>\n",
       "    .dataframe tbody tr th:only-of-type {\n",
       "        vertical-align: middle;\n",
       "    }\n",
       "\n",
       "    .dataframe tbody tr th {\n",
       "        vertical-align: top;\n",
       "    }\n",
       "\n",
       "    .dataframe thead th {\n",
       "        text-align: right;\n",
       "    }\n",
       "</style>\n",
       "<table border=\"1\" class=\"dataframe\">\n",
       "  <thead>\n",
       "    <tr style=\"text-align: right;\">\n",
       "      <th></th>\n",
       "      <th>Department</th>\n",
       "      <th>Code</th>\n",
       "      <th>Total Amount</th>\n",
       "      <th>Delay Male</th>\n",
       "      <th>Delay Female</th>\n",
       "      <th>Total Delay</th>\n",
       "      <th>Percent</th>\n",
       "    </tr>\n",
       "  </thead>\n",
       "  <tbody>\n",
       "    <tr>\n",
       "      <th>3</th>\n",
       "      <td>外國語文學系</td>\n",
       "      <td>1020</td>\n",
       "      <td>544</td>\n",
       "      <td>15</td>\n",
       "      <td>39</td>\n",
       "      <td>54</td>\n",
       "      <td>0.099265</td>\n",
       "    </tr>\n",
       "    <tr>\n",
       "      <th>4</th>\n",
       "      <td>歷史學系</td>\n",
       "      <td>1030</td>\n",
       "      <td>264</td>\n",
       "      <td>14</td>\n",
       "      <td>19</td>\n",
       "      <td>33</td>\n",
       "      <td>0.125000</td>\n",
       "    </tr>\n",
       "    <tr>\n",
       "      <th>5</th>\n",
       "      <td>哲學系</td>\n",
       "      <td>1040</td>\n",
       "      <td>186</td>\n",
       "      <td>13</td>\n",
       "      <td>8</td>\n",
       "      <td>21</td>\n",
       "      <td>0.112903</td>\n",
       "    </tr>\n",
       "    <tr>\n",
       "      <th>6</th>\n",
       "      <td>人類學系</td>\n",
       "      <td>1050</td>\n",
       "      <td>158</td>\n",
       "      <td>5</td>\n",
       "      <td>11</td>\n",
       "      <td>16</td>\n",
       "      <td>0.101266</td>\n",
       "    </tr>\n",
       "    <tr>\n",
       "      <th>7</th>\n",
       "      <td>圖書資訊學系</td>\n",
       "      <td>1060</td>\n",
       "      <td>210</td>\n",
       "      <td>5</td>\n",
       "      <td>16</td>\n",
       "      <td>21</td>\n",
       "      <td>0.100000</td>\n",
       "    </tr>\n",
       "  </tbody>\n",
       "</table>\n",
       "</div>"
      ],
      "text/plain": [
       "  Department  Code Total Amount Delay Male Delay Female  Total Delay   Percent\n",
       "3     外國語文學系  1020          544         15           39           54  0.099265\n",
       "4       歷史學系  1030          264         14           19           33  0.125000\n",
       "5        哲學系  1040          186         13            8           21  0.112903\n",
       "6       人類學系  1050          158          5           11           16  0.101266\n",
       "7     圖書資訊學系  1060          210          5           16           21  0.100000"
      ]
     },
     "execution_count": 45,
     "metadata": {},
     "output_type": "execute_result"
    }
   ],
   "source": [
    "TotalDelay1061=list(df1061[\"Total Delay\"])\n",
    "TotalAmount1061=list(df1061[\"Total Amount\"])\n",
    "Final1061=[x/y for x,y in zip(TotalDelay1061,TotalAmount1061)]\n",
    "df1061[\"Percent\"]=Final1061\n",
    "Department1061=df1061[df1061[\"Percent\"]==df1061[\"Percent\"].max()].iloc[0,0]\n",
    "TotalDelay1062=list(df1062[\"Total Delay\"])\n",
    "TotalAmount1062=list(df1062[\"Total Amount\"])\n",
    "Final1062=[x/y for x,y in zip(TotalDelay1062,TotalAmount1062)]\n",
    "df1062[\"Percent\"]=Final1062\n",
    "Department1062=df1062[df1062[\"Percent\"]==df1062[\"Percent\"].max()].iloc[0,0]\n",
    "\n",
    "df1061.head()"
   ]
  },
  {
   "cell_type": "code",
   "execution_count": 46,
   "metadata": {},
   "outputs": [
    {
     "name": "stdout",
     "output_type": "stream",
     "text": [
      "106年延畢業率最高的系：\n",
      "上學期：戲劇學系\n",
      "下學期：戲劇學系\n"
     ]
    }
   ],
   "source": [
    "print(f\"106年延畢業率最高的系：\\n上學期：{Department1061}\\n下學期：{Department1062}\")"
   ]
  }
 ],
 "metadata": {
  "kernelspec": {
   "display_name": "Python 3",
   "language": "python",
   "name": "python3"
  },
  "language_info": {
   "codemirror_mode": {
    "name": "ipython",
    "version": 3
   },
   "file_extension": ".py",
   "mimetype": "text/x-python",
   "name": "python",
   "nbconvert_exporter": "python",
   "pygments_lexer": "ipython3",
   "version": "3.6.5"
  }
 },
 "nbformat": 4,
 "nbformat_minor": 2
}
